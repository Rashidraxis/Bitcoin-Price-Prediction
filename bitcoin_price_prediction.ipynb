{
 "cells": [
  {
   "cell_type": "code",
   "execution_count": 5,
   "metadata": {},
   "outputs": [],
   "source": [
    "import warnings \n",
    "warnings.filterwarnings('ignore')\n",
    "import os\n",
    "import pandas as pd\n",
    "import numpy as np \n",
    "import math\n",
    "import datetime as dt\n",
    "import matplotlib.pyplot as plt\n",
    "from sklearn.metrics import mean_squared_error, mean_absolute_error, explained_variance_score, r2_score\n",
    "from sklearn.metrics import mean_poisson_deviance, mean_gamma_deviance, accuracy_score\n",
    "from sklearn.preprocessing import MinMaxScaler\n",
    "\n",
    "from itertools import product\n",
    "import statsmodels.api as sm\n",
    "\n",
    "import tensorflow as tf\n",
    "\n",
    "from tensorflow.keras.models import Sequential\n",
    "from tensorflow.keras.layers import Dense, Dropout \n",
    "from tensorflow.keras.layers import LSTM\n",
    "\n",
    "from itertools import cycle\n",
    "import plotly.offline as py\n",
    "import plotly.graph_objects as go \n",
    "import plotly.express as px\n",
    "from plotly.subplots import make_subplots\n",
    "\n",
    "plt.style.use('seaborn-darkgrid')"
   ]
  },
  {
   "cell_type": "code",
   "execution_count": 6,
   "metadata": {},
   "outputs": [
    {
     "data": {
      "text/html": [
       "<div>\n",
       "<style scoped>\n",
       "    .dataframe tbody tr th:only-of-type {\n",
       "        vertical-align: middle;\n",
       "    }\n",
       "\n",
       "    .dataframe tbody tr th {\n",
       "        vertical-align: top;\n",
       "    }\n",
       "\n",
       "    .dataframe thead th {\n",
       "        text-align: right;\n",
       "    }\n",
       "</style>\n",
       "<table border=\"1\" class=\"dataframe\">\n",
       "  <thead>\n",
       "    <tr style=\"text-align: right;\">\n",
       "      <th></th>\n",
       "      <th>time</th>\n",
       "      <th>low</th>\n",
       "      <th>high</th>\n",
       "      <th>open</th>\n",
       "      <th>close</th>\n",
       "      <th>volume</th>\n",
       "    </tr>\n",
       "  </thead>\n",
       "  <tbody>\n",
       "    <tr>\n",
       "      <th>3113271</th>\n",
       "      <td>2015-10-27 00:04:00</td>\n",
       "      <td>287.07</td>\n",
       "      <td>287.07</td>\n",
       "      <td>287.07</td>\n",
       "      <td>287.07</td>\n",
       "      <td>0.08610</td>\n",
       "    </tr>\n",
       "    <tr>\n",
       "      <th>3113272</th>\n",
       "      <td>2015-10-27 00:03:00</td>\n",
       "      <td>287.08</td>\n",
       "      <td>287.09</td>\n",
       "      <td>287.08</td>\n",
       "      <td>287.09</td>\n",
       "      <td>0.55440</td>\n",
       "    </tr>\n",
       "    <tr>\n",
       "      <th>3113273</th>\n",
       "      <td>2015-10-27 00:02:00</td>\n",
       "      <td>286.89</td>\n",
       "      <td>287.10</td>\n",
       "      <td>287.10</td>\n",
       "      <td>286.89</td>\n",
       "      <td>72.40320</td>\n",
       "    </tr>\n",
       "    <tr>\n",
       "      <th>3113274</th>\n",
       "      <td>2015-10-27 00:01:00</td>\n",
       "      <td>287.09</td>\n",
       "      <td>287.09</td>\n",
       "      <td>287.09</td>\n",
       "      <td>287.09</td>\n",
       "      <td>0.82276</td>\n",
       "    </tr>\n",
       "    <tr>\n",
       "      <th>3113275</th>\n",
       "      <td>2015-10-27 00:00:00</td>\n",
       "      <td>287.10</td>\n",
       "      <td>287.10</td>\n",
       "      <td>287.10</td>\n",
       "      <td>287.10</td>\n",
       "      <td>0.53620</td>\n",
       "    </tr>\n",
       "  </tbody>\n",
       "</table>\n",
       "</div>"
      ],
      "text/plain": [
       "                        time     low    high    open   close    volume\n",
       "3113271  2015-10-27 00:04:00  287.07  287.07  287.07  287.07   0.08610\n",
       "3113272  2015-10-27 00:03:00  287.08  287.09  287.08  287.09   0.55440\n",
       "3113273  2015-10-27 00:02:00  286.89  287.10  287.10  286.89  72.40320\n",
       "3113274  2015-10-27 00:01:00  287.09  287.09  287.09  287.09   0.82276\n",
       "3113275  2015-10-27 00:00:00  287.10  287.10  287.10  287.10   0.53620"
      ]
     },
     "execution_count": 6,
     "metadata": {},
     "output_type": "execute_result"
    }
   ],
   "source": [
    "btc_input_df = pd.read_csv(\"/major project/btc_ohlc_Oct_2015_to_Oct_2021.csv\")\n",
    "btc_input_df.tail()"
   ]
  },
  {
   "cell_type": "code",
   "execution_count": 8,
   "metadata": {},
   "outputs": [
    {
     "data": {
      "text/plain": [
       "(3113276, 6)"
      ]
     },
     "execution_count": 8,
     "metadata": {},
     "output_type": "execute_result"
    }
   ],
   "source": [
    "btc_input_df.shape"
   ]
  },
  {
   "cell_type": "code",
   "execution_count": 9,
   "metadata": {},
   "outputs": [
    {
     "data": {
      "text/html": [
       "<div>\n",
       "<style scoped>\n",
       "    .dataframe tbody tr th:only-of-type {\n",
       "        vertical-align: middle;\n",
       "    }\n",
       "\n",
       "    .dataframe tbody tr th {\n",
       "        vertical-align: top;\n",
       "    }\n",
       "\n",
       "    .dataframe thead th {\n",
       "        text-align: right;\n",
       "    }\n",
       "</style>\n",
       "<table border=\"1\" class=\"dataframe\">\n",
       "  <thead>\n",
       "    <tr style=\"text-align: right;\">\n",
       "      <th></th>\n",
       "      <th>low</th>\n",
       "      <th>high</th>\n",
       "      <th>open</th>\n",
       "      <th>close</th>\n",
       "      <th>volume</th>\n",
       "    </tr>\n",
       "  </thead>\n",
       "  <tbody>\n",
       "    <tr>\n",
       "      <th>count</th>\n",
       "      <td>3.113276e+06</td>\n",
       "      <td>3.113276e+06</td>\n",
       "      <td>3.113276e+06</td>\n",
       "      <td>3.113276e+06</td>\n",
       "      <td>3.113276e+06</td>\n",
       "    </tr>\n",
       "    <tr>\n",
       "      <th>mean</th>\n",
       "      <td>1.152825e+04</td>\n",
       "      <td>1.154230e+04</td>\n",
       "      <td>1.153537e+04</td>\n",
       "      <td>1.153541e+04</td>\n",
       "      <td>9.689568e+00</td>\n",
       "    </tr>\n",
       "    <tr>\n",
       "      <th>std</th>\n",
       "      <td>1.490292e+04</td>\n",
       "      <td>1.492446e+04</td>\n",
       "      <td>1.491374e+04</td>\n",
       "      <td>1.491379e+04</td>\n",
       "      <td>2.239875e+01</td>\n",
       "    </tr>\n",
       "    <tr>\n",
       "      <th>min</th>\n",
       "      <td>6.000000e-02</td>\n",
       "      <td>6.000000e-02</td>\n",
       "      <td>6.000000e-02</td>\n",
       "      <td>6.000000e-02</td>\n",
       "      <td>1.000000e-08</td>\n",
       "    </tr>\n",
       "    <tr>\n",
       "      <th>25%</th>\n",
       "      <td>1.849557e+03</td>\n",
       "      <td>1.850000e+03</td>\n",
       "      <td>1.849925e+03</td>\n",
       "      <td>1.849980e+03</td>\n",
       "      <td>1.331197e+00</td>\n",
       "    </tr>\n",
       "    <tr>\n",
       "      <th>50%</th>\n",
       "      <td>7.099990e+03</td>\n",
       "      <td>7.105000e+03</td>\n",
       "      <td>7.102045e+03</td>\n",
       "      <td>7.102060e+03</td>\n",
       "      <td>3.707298e+00</td>\n",
       "    </tr>\n",
       "    <tr>\n",
       "      <th>75%</th>\n",
       "      <td>1.067558e+04</td>\n",
       "      <td>1.068550e+04</td>\n",
       "      <td>1.068027e+04</td>\n",
       "      <td>1.068040e+04</td>\n",
       "      <td>9.761575e+00</td>\n",
       "    </tr>\n",
       "    <tr>\n",
       "      <th>max</th>\n",
       "      <td>6.690000e+04</td>\n",
       "      <td>6.699900e+04</td>\n",
       "      <td>6.694122e+04</td>\n",
       "      <td>6.694122e+04</td>\n",
       "      <td>1.549613e+03</td>\n",
       "    </tr>\n",
       "  </tbody>\n",
       "</table>\n",
       "</div>"
      ],
      "text/plain": [
       "                low          high          open         close        volume\n",
       "count  3.113276e+06  3.113276e+06  3.113276e+06  3.113276e+06  3.113276e+06\n",
       "mean   1.152825e+04  1.154230e+04  1.153537e+04  1.153541e+04  9.689568e+00\n",
       "std    1.490292e+04  1.492446e+04  1.491374e+04  1.491379e+04  2.239875e+01\n",
       "min    6.000000e-02  6.000000e-02  6.000000e-02  6.000000e-02  1.000000e-08\n",
       "25%    1.849557e+03  1.850000e+03  1.849925e+03  1.849980e+03  1.331197e+00\n",
       "50%    7.099990e+03  7.105000e+03  7.102045e+03  7.102060e+03  3.707298e+00\n",
       "75%    1.067558e+04  1.068550e+04  1.068027e+04  1.068040e+04  9.761575e+00\n",
       "max    6.690000e+04  6.699900e+04  6.694122e+04  6.694122e+04  1.549613e+03"
      ]
     },
     "execution_count": 9,
     "metadata": {},
     "output_type": "execute_result"
    }
   ],
   "source": [
    "btc_input_df.describe()"
   ]
  },
  {
   "cell_type": "code",
   "execution_count": 10,
   "metadata": {},
   "outputs": [
    {
     "name": "stdout",
     "output_type": "stream",
     "text": [
      "<class 'pandas.core.frame.DataFrame'>\n",
      "RangeIndex: 3113276 entries, 0 to 3113275\n",
      "Data columns (total 6 columns):\n",
      " #   Column  Dtype  \n",
      "---  ------  -----  \n",
      " 0   time    object \n",
      " 1   low     float64\n",
      " 2   high    float64\n",
      " 3   open    float64\n",
      " 4   close   float64\n",
      " 5   volume  float64\n",
      "dtypes: float64(5), object(1)\n",
      "memory usage: 142.5+ MB\n"
     ]
    }
   ],
   "source": [
    "btc_input_df.info()"
   ]
  },
  {
   "cell_type": "code",
   "execution_count": 12,
   "metadata": {},
   "outputs": [],
   "source": [
    "btc_input_df_datatype = btc_input_df.astype({'time': 'datetime64'})"
   ]
  },
  {
   "cell_type": "code",
   "execution_count": 13,
   "metadata": {},
   "outputs": [
    {
     "name": "stdout",
     "output_type": "stream",
     "text": [
      "<class 'pandas.core.frame.DataFrame'>\n",
      "RangeIndex: 3113276 entries, 0 to 3113275\n",
      "Data columns (total 6 columns):\n",
      " #   Column  Dtype         \n",
      "---  ------  -----         \n",
      " 0   time    datetime64[ns]\n",
      " 1   low     float64       \n",
      " 2   high    float64       \n",
      " 3   open    float64       \n",
      " 4   close   float64       \n",
      " 5   volume  float64       \n",
      "dtypes: datetime64[ns](1), float64(5)\n",
      "memory usage: 142.5 MB\n"
     ]
    }
   ],
   "source": [
    "btc_input_df_datatype.info()"
   ]
  },
  {
   "cell_type": "code",
   "execution_count": null,
   "metadata": {},
   "outputs": [],
   "source": []
  }
 ],
 "metadata": {
  "kernelspec": {
   "display_name": "Python 3.10.5 64-bit",
   "language": "python",
   "name": "python3"
  },
  "language_info": {
   "codemirror_mode": {
    "name": "ipython",
    "version": 3
   },
   "file_extension": ".py",
   "mimetype": "text/x-python",
   "name": "python",
   "nbconvert_exporter": "python",
   "pygments_lexer": "ipython3",
   "version": "3.10.5"
  },
  "orig_nbformat": 4,
  "vscode": {
   "interpreter": {
    "hash": "a42ccb73e7d9bfdf27e036f1d2b8b681e55fc0743cc5586bc2474d4a60f4b886"
   }
  }
 },
 "nbformat": 4,
 "nbformat_minor": 2
}
